{
  "metadata": {
    "kernelspec": {
      "name": "python3",
      "display_name": "Python 3",
      "language": "python"
    },
    "language_info": {
      "name": "python",
      "version": "3.10.13",
      "mimetype": "text/x-python",
      "codemirror_mode": {
        "name": "ipython",
        "version": 3
      },
      "pygments_lexer": "ipython3",
      "nbconvert_exporter": "python",
      "file_extension": ".py"
    },
    "colab": {
      "provenance": [],
      "include_colab_link": true
    },
    "kaggle": {
      "accelerator": "none",
      "dataSources": [
        {
          "sourceId": 482,
          "sourceType": "datasetVersion",
          "datasetId": 228
        }
      ],
      "dockerImageVersionId": 30646,
      "isInternetEnabled": false,
      "language": "python",
      "sourceType": "notebook",
      "isGpuEnabled": false
    }
  },
  "nbformat_minor": 0,
  "nbformat": 4,
  "cells": [
    {
      "cell_type": "markdown",
      "metadata": {
        "id": "view-in-github",
        "colab_type": "text"
      },
      "source": [
        "<a href=\"https://colab.research.google.com/github/dolly500/All-Coursera-assignment-on-on-Python-on-Git/blob/main/Copy_of_Diabetes_prediction_ML_model.ipynb\" target=\"_parent\"><img src=\"https://colab.research.google.com/assets/colab-badge.svg\" alt=\"Open In Colab\"/></a>"
      ]
    },
    {
      "source": [
        "\n",
        "# IMPORTANT: RUN THIS CELL IN ORDER TO IMPORT YOUR KAGGLE DATA SOURCES\n",
        "# TO THE CORRECT LOCATION (/kaggle/input) IN YOUR NOTEBOOK,\n",
        "# THEN FEEL FREE TO DELETE THIS CELL.\n",
        "# NOTE: THIS NOTEBOOK ENVIRONMENT DIFFERS FROM KAGGLE'S PYTHON\n",
        "# ENVIRONMENT SO THERE MAY BE MISSING LIBRARIES USED BY YOUR\n",
        "# NOTEBOOK.\n",
        "\n",
        "import os\n",
        "import sys\n",
        "from tempfile import NamedTemporaryFile\n",
        "from urllib.request import urlopen\n",
        "from urllib.parse import unquote, urlparse\n",
        "from urllib.error import HTTPError\n",
        "from zipfile import ZipFile\n",
        "import tarfile\n",
        "import shutil\n",
        "\n",
        "CHUNK_SIZE = 40960\n",
        "DATA_SOURCE_MAPPING = 'pima-indians-diabetes-database:https%3A%2F%2Fstorage.googleapis.com%2Fkaggle-data-sets%2F228%2F482%2Fbundle%2Farchive.zip%3FX-Goog-Algorithm%3DGOOG4-RSA-SHA256%26X-Goog-Credential%3Dgcp-kaggle-com%2540kaggle-161607.iam.gserviceaccount.com%252F20240218%252Fauto%252Fstorage%252Fgoog4_request%26X-Goog-Date%3D20240218T083722Z%26X-Goog-Expires%3D259200%26X-Goog-SignedHeaders%3Dhost%26X-Goog-Signature%3D6fc7b27b8c68f8c4eb09fa82f48ef442b35215e8cbbc094d9ec21fbe46cae36a96cdc4993e192a1a403c39af449f51cc6391eb4368d778344f468813d3622f7f12acd98122a911f43d5e79d07ccb7873ea9142cdefba7b9bc8b28320008643e511af0f0828d4cdbc540663ff8afbc8d8b4ab17fdc19b8ca8e85295eefc4de7cf8cf5d762edf9e30af22c25d4bec4f8687534bf1534cba27ab771bec1e23bce0786b88e244e90d248c10c9b342c0c13dc4acf55a4042b7cfb582b0f32cbad468cd17fad3d8d9a80ed8cbe187c9a2b0432a660e8a1db12c9c1ae99703070abcc99dd64b6dd171c7ceb34e9a88cc1e181fc63542bc63497564c64abc0b75fd90edb'\n",
        "\n",
        "KAGGLE_INPUT_PATH='/kaggle/input'\n",
        "KAGGLE_WORKING_PATH='/kaggle/working'\n",
        "KAGGLE_SYMLINK='kaggle'\n",
        "\n",
        "!umount /kaggle/input/ 2> /dev/null\n",
        "shutil.rmtree('/kaggle/input', ignore_errors=True)\n",
        "os.makedirs(KAGGLE_INPUT_PATH, 0o777, exist_ok=True)\n",
        "os.makedirs(KAGGLE_WORKING_PATH, 0o777, exist_ok=True)\n",
        "\n",
        "try:\n",
        "  os.symlink(KAGGLE_INPUT_PATH, os.path.join(\"..\", 'input'), target_is_directory=True)\n",
        "except FileExistsError:\n",
        "  pass\n",
        "try:\n",
        "  os.symlink(KAGGLE_WORKING_PATH, os.path.join(\"..\", 'working'), target_is_directory=True)\n",
        "except FileExistsError:\n",
        "  pass\n",
        "\n",
        "for data_source_mapping in DATA_SOURCE_MAPPING.split(','):\n",
        "    directory, download_url_encoded = data_source_mapping.split(':')\n",
        "    download_url = unquote(download_url_encoded)\n",
        "    filename = urlparse(download_url).path\n",
        "    destination_path = os.path.join(KAGGLE_INPUT_PATH, directory)\n",
        "    try:\n",
        "        with urlopen(download_url) as fileres, NamedTemporaryFile() as tfile:\n",
        "            total_length = fileres.headers['content-length']\n",
        "            print(f'Downloading {directory}, {total_length} bytes compressed')\n",
        "            dl = 0\n",
        "            data = fileres.read(CHUNK_SIZE)\n",
        "            while len(data) > 0:\n",
        "                dl += len(data)\n",
        "                tfile.write(data)\n",
        "                done = int(50 * dl / int(total_length))\n",
        "                sys.stdout.write(f\"\\r[{'=' * done}{' ' * (50-done)}] {dl} bytes downloaded\")\n",
        "                sys.stdout.flush()\n",
        "                data = fileres.read(CHUNK_SIZE)\n",
        "            if filename.endswith('.zip'):\n",
        "              with ZipFile(tfile) as zfile:\n",
        "                zfile.extractall(destination_path)\n",
        "            else:\n",
        "              with tarfile.open(tfile.name) as tarfile:\n",
        "                tarfile.extractall(destination_path)\n",
        "            print(f'\\nDownloaded and uncompressed: {directory}')\n",
        "    except HTTPError as e:\n",
        "        print(f'Failed to load (likely expired) {download_url} to path {destination_path}')\n",
        "        continue\n",
        "    except OSError as e:\n",
        "        print(f'Failed to load {download_url} to path {destination_path}')\n",
        "        continue\n",
        "\n",
        "print('Data source import complete.')\n"
      ],
      "metadata": {
        "id": "09mhx2OTYHiQ"
      },
      "cell_type": "code",
      "outputs": [],
      "execution_count": null
    },
    {
      "cell_type": "code",
      "source": [
        "import pandas as pd\n",
        "import numpy as np\n",
        "import matplotlib.pyplot as plt\n",
        "import seaborn as sns"
      ],
      "metadata": {
        "id": "4XDkGZSp4ag3",
        "execution": {
          "iopub.status.busy": "2024-02-17T12:14:37.337412Z",
          "iopub.execute_input": "2024-02-17T12:14:37.337897Z",
          "iopub.status.idle": "2024-02-17T12:14:40.298164Z",
          "shell.execute_reply.started": "2024-02-17T12:14:37.337861Z",
          "shell.execute_reply": "2024-02-17T12:14:40.29682Z"
        },
        "trusted": true
      },
      "execution_count": null,
      "outputs": []
    },
    {
      "cell_type": "code",
      "source": [
        "df = pd.read_csv(\"/kaggle/input/pima-indians-diabetes-database/diabetes.csv\")"
      ],
      "metadata": {
        "id": "1pWCrU2Z4ag6",
        "execution": {
          "iopub.status.busy": "2024-02-17T12:16:23.712008Z",
          "iopub.execute_input": "2024-02-17T12:16:23.71246Z",
          "iopub.status.idle": "2024-02-17T12:16:23.731442Z",
          "shell.execute_reply.started": "2024-02-17T12:16:23.712429Z",
          "shell.execute_reply": "2024-02-17T12:16:23.729924Z"
        },
        "trusted": true
      },
      "execution_count": null,
      "outputs": []
    },
    {
      "cell_type": "markdown",
      "source": [
        "# Exploring the dataset"
      ],
      "metadata": {
        "id": "y7B3HaUz4ag7"
      }
    },
    {
      "cell_type": "markdown",
      "source": [
        "**Displaying the first fiew rows of the dataset :**  "
      ],
      "metadata": {
        "id": "h3aTF1_y4ag9"
      }
    },
    {
      "cell_type": "code",
      "source": [
        "df.head()"
      ],
      "metadata": {
        "id": "qisUoMKA4ag-",
        "execution": {
          "iopub.status.busy": "2024-02-17T12:16:31.501579Z",
          "iopub.execute_input": "2024-02-17T12:16:31.502022Z",
          "iopub.status.idle": "2024-02-17T12:16:31.528397Z",
          "shell.execute_reply.started": "2024-02-17T12:16:31.501992Z",
          "shell.execute_reply": "2024-02-17T12:16:31.527074Z"
        },
        "trusted": true
      },
      "execution_count": null,
      "outputs": []
    },
    {
      "cell_type": "markdown",
      "source": [
        "**Displayig the last fiew rows of the dataset :**"
      ],
      "metadata": {
        "id": "eeFsucEdYHii"
      }
    },
    {
      "cell_type": "code",
      "source": [
        "df.tail()"
      ],
      "metadata": {
        "id": "tYbqug8U4ag_",
        "execution": {
          "iopub.status.busy": "2024-02-17T12:16:35.004917Z",
          "iopub.execute_input": "2024-02-17T12:16:35.00584Z",
          "iopub.status.idle": "2024-02-17T12:16:35.025618Z",
          "shell.execute_reply.started": "2024-02-17T12:16:35.005784Z",
          "shell.execute_reply": "2024-02-17T12:16:35.024019Z"
        },
        "trusted": true
      },
      "execution_count": null,
      "outputs": []
    },
    {
      "cell_type": "markdown",
      "source": [
        "**Getting a random sample from the dataset :**"
      ],
      "metadata": {
        "id": "MB7losZcYHij"
      }
    },
    {
      "cell_type": "code",
      "source": [
        "df.sample(5)"
      ],
      "metadata": {
        "id": "lAqIGX114ahA"
      },
      "execution_count": null,
      "outputs": []
    },
    {
      "cell_type": "markdown",
      "source": [
        "**Exploring the dataset as a structure :**"
      ],
      "metadata": {
        "id": "g4PIKpum4ahC"
      }
    },
    {
      "cell_type": "code",
      "source": [
        "df.info(verbose = True )"
      ],
      "metadata": {
        "id": "Qmt2yq-O4ahD",
        "execution": {
          "iopub.status.busy": "2024-02-17T12:19:56.501452Z",
          "iopub.execute_input": "2024-02-17T12:19:56.502651Z",
          "iopub.status.idle": "2024-02-17T12:19:56.514557Z",
          "shell.execute_reply.started": "2024-02-17T12:19:56.502615Z",
          "shell.execute_reply": "2024-02-17T12:19:56.512988Z"
        },
        "trusted": true
      },
      "execution_count": null,
      "outputs": []
    },
    {
      "cell_type": "code",
      "source": [
        "df.shape"
      ],
      "metadata": {
        "id": "iPlHpbwV4ahE",
        "execution": {
          "iopub.status.busy": "2024-02-17T12:20:17.114433Z",
          "iopub.execute_input": "2024-02-17T12:20:17.114891Z",
          "iopub.status.idle": "2024-02-17T12:20:17.123223Z",
          "shell.execute_reply.started": "2024-02-17T12:20:17.114852Z",
          "shell.execute_reply": "2024-02-17T12:20:17.121969Z"
        },
        "trusted": true
      },
      "execution_count": null,
      "outputs": []
    },
    {
      "cell_type": "code",
      "source": [
        "df.size"
      ],
      "metadata": {
        "id": "Vf2bw3Ve4ahF"
      },
      "execution_count": null,
      "outputs": []
    },
    {
      "cell_type": "code",
      "source": [
        "df.columns"
      ],
      "metadata": {
        "id": "fhXeYXQi4ahF"
      },
      "execution_count": null,
      "outputs": []
    },
    {
      "cell_type": "code",
      "source": [
        "df.isnull().sum()"
      ],
      "metadata": {
        "id": "uDufIkW54ahG"
      },
      "execution_count": null,
      "outputs": []
    },
    {
      "cell_type": "markdown",
      "source": [
        "**Getting a statistical summary of the dataset :**"
      ],
      "metadata": {
        "id": "3hVOo_fP4ahG"
      }
    },
    {
      "cell_type": "code",
      "source": [
        "df.describe().transpose()"
      ],
      "metadata": {
        "id": "vPpYKVoe4ahH",
        "execution": {
          "iopub.status.busy": "2024-02-17T12:20:55.563973Z",
          "iopub.execute_input": "2024-02-17T12:20:55.56444Z",
          "iopub.status.idle": "2024-02-17T12:20:55.610463Z",
          "shell.execute_reply.started": "2024-02-17T12:20:55.564406Z",
          "shell.execute_reply": "2024-02-17T12:20:55.609006Z"
        },
        "trusted": true
      },
      "execution_count": null,
      "outputs": []
    },
    {
      "cell_type": "code",
      "source": [
        "# Let's first separate features and target :\n",
        "X = df[df.columns[:-1]]\n",
        "y = df[df.columns[-1]]"
      ],
      "metadata": {
        "id": "L8pyVTBs4ahI",
        "execution": {
          "iopub.status.busy": "2024-02-17T12:21:25.182173Z",
          "iopub.execute_input": "2024-02-17T12:21:25.18264Z",
          "iopub.status.idle": "2024-02-17T12:21:25.192241Z",
          "shell.execute_reply.started": "2024-02-17T12:21:25.182608Z",
          "shell.execute_reply": "2024-02-17T12:21:25.190888Z"
        },
        "trusted": true
      },
      "execution_count": null,
      "outputs": []
    },
    {
      "cell_type": "code",
      "source": [
        "# Exploring correlations between the different variables :\n",
        "corr = X.corr()\n",
        "plt.figure(figsize=(10,8))\n",
        "sns.heatmap(corr  , annot=True)\n",
        "plt.show()"
      ],
      "metadata": {
        "id": "1IBYV1Yf4ahI",
        "execution": {
          "iopub.status.busy": "2024-02-17T12:21:30.14795Z",
          "iopub.execute_input": "2024-02-17T12:21:30.148405Z",
          "iopub.status.idle": "2024-02-17T12:21:30.683818Z",
          "shell.execute_reply.started": "2024-02-17T12:21:30.148374Z",
          "shell.execute_reply": "2024-02-17T12:21:30.682426Z"
        },
        "trusted": true
      },
      "execution_count": null,
      "outputs": []
    },
    {
      "cell_type": "code",
      "source": [
        "# Visualizing some very correlated variables in relation to each other :\n",
        "sns.pairplot(data = X , diag_kind = 'kde')"
      ],
      "metadata": {
        "id": "37iM2o305IJU",
        "execution": {
          "iopub.status.busy": "2024-02-17T12:21:35.066927Z",
          "iopub.execute_input": "2024-02-17T12:21:35.067653Z",
          "iopub.status.idle": "2024-02-17T12:21:58.092093Z",
          "shell.execute_reply.started": "2024-02-17T12:21:35.067609Z",
          "shell.execute_reply": "2024-02-17T12:21:58.090485Z"
        },
        "trusted": true
      },
      "execution_count": null,
      "outputs": []
    },
    {
      "cell_type": "code",
      "source": [
        "# Let's visualize the parameters for the two kinds of outcome separately\n",
        "for feature in df.columns[:-1] :\n",
        "    sns.histplot(data=df.loc[df['Outcome']==1][feature] , bins=20 , color = 'Red' , kde=True , label = f'Diabetic'  , stat='probability' , alpha = 0.5)\n",
        "    sns.histplot(data=df.loc[df['Outcome']==0][feature] , bins=20 , color='green' , kde=True , label = f'Non-Diabetic' , stat='probability' , alpha = 0.3)\n",
        "    plt.legend(['Diabetic' , 'Non-Diabetic'])\n",
        "    plt.show()"
      ],
      "metadata": {
        "id": "2_7PQkde4ahI",
        "execution": {
          "iopub.status.busy": "2024-02-17T12:22:08.341111Z",
          "iopub.execute_input": "2024-02-17T12:22:08.341614Z",
          "iopub.status.idle": "2024-02-17T12:22:12.430412Z",
          "shell.execute_reply.started": "2024-02-17T12:22:08.341577Z",
          "shell.execute_reply": "2024-02-17T12:22:12.429196Z"
        },
        "trusted": true
      },
      "execution_count": null,
      "outputs": []
    },
    {
      "cell_type": "markdown",
      "source": [
        "# Let's split data intop training , test and validation datasets"
      ],
      "metadata": {
        "id": "aH-wlc8b4ahJ"
      }
    },
    {
      "cell_type": "code",
      "source": [
        "from sklearn.model_selection import train_test_split"
      ],
      "metadata": {
        "id": "TJU8fUjw4ahJ",
        "execution": {
          "iopub.status.busy": "2024-02-17T12:28:22.856874Z",
          "iopub.execute_input": "2024-02-17T12:28:22.857409Z",
          "iopub.status.idle": "2024-02-17T12:28:22.863868Z",
          "shell.execute_reply.started": "2024-02-17T12:28:22.857375Z",
          "shell.execute_reply": "2024-02-17T12:28:22.862612Z"
        },
        "trusted": true
      },
      "execution_count": null,
      "outputs": []
    },
    {
      "cell_type": "code",
      "source": [
        "# Splitting the dataframe into training and temporary dataset :\n",
        "X_train , X_temp , y_train , y_temp = train_test_split(X , y , test_size=0.3 , random_state=42)\n",
        "\n",
        "# Further split the temporary dataset into testing and validation :\n",
        "X_test , X_valid , y_test , y_valid = train_test_split(X_train , y_train , test_size=0.5 , random_state=42)"
      ],
      "metadata": {
        "id": "y_0LqSHb4ahJ",
        "execution": {
          "iopub.status.busy": "2024-02-17T12:28:25.770777Z",
          "iopub.execute_input": "2024-02-17T12:28:25.771225Z",
          "iopub.status.idle": "2024-02-17T12:28:25.783839Z",
          "shell.execute_reply.started": "2024-02-17T12:28:25.771191Z",
          "shell.execute_reply": "2024-02-17T12:28:25.782241Z"
        },
        "trusted": true
      },
      "execution_count": null,
      "outputs": []
    },
    {
      "cell_type": "markdown",
      "source": [
        "**Fixing the problem of scaling and balancing :**"
      ],
      "metadata": {
        "id": "QN7TAY1u4ahJ"
      }
    },
    {
      "cell_type": "markdown",
      "source": [
        "**When training a machine learning model, it is generally recommended to scale the data before balancing it. Scaling the data involves normalizing or standardizing the features to ensure that they have a similar influence on the model, regardless of their original range. This is particularly important when using algorithms sensitive to the scale of the features, such as k-Nearest Neighbors (k-NN). By scaling the data before balancing, potential issues related to features with significantly different ranges can be mitigated, leading to improved model performance**\n"
      ],
      "metadata": {
        "id": "K8LwfzXjYHiv"
      }
    },
    {
      "cell_type": "markdown",
      "source": [
        "**Balancing a training dataset refers to adjusting the distribution of classes to ensure that each class is represented in a more equal manner. This is important because machine learning algorithms, particularly classification algorithms, may be biased towards the majority class when the dataset is imbalanced, leading to poor performance on the minority classes. Balancing the dataset can be achieved through various techniques such as undersampling the majority class, oversampling the minority class, or adjusting the weights of each class during training**\n"
      ],
      "metadata": {
        "id": "zeOoQ5pO4ahK"
      }
    },
    {
      "cell_type": "code",
      "source": [
        "# Data varies in terms of scale which can negatively affect the learning process of our model\n",
        "X_train.sample(5)"
      ],
      "metadata": {
        "id": "UtnIz_hx4ahK",
        "execution": {
          "iopub.status.busy": "2024-02-17T12:28:32.011562Z",
          "iopub.execute_input": "2024-02-17T12:28:32.01205Z",
          "iopub.status.idle": "2024-02-17T12:28:32.02887Z",
          "shell.execute_reply.started": "2024-02-17T12:28:32.012013Z",
          "shell.execute_reply": "2024-02-17T12:28:32.027106Z"
        },
        "trusted": true
      },
      "execution_count": null,
      "outputs": []
    },
    {
      "cell_type": "code",
      "source": [
        "# Training data is unbalanced wa have more diabetic persons in our training dataset :\n",
        "y_train.replace({1 : 'Diabetic' , 0  : 'Non-Diabetic'}).value_counts().plot.pie(autopct='%1.1f%%')"
      ],
      "metadata": {
        "id": "WU1PUfAV4ahK",
        "execution": {
          "iopub.status.busy": "2024-02-17T12:28:35.337015Z",
          "iopub.execute_input": "2024-02-17T12:28:35.337437Z",
          "iopub.status.idle": "2024-02-17T12:28:35.477043Z",
          "shell.execute_reply.started": "2024-02-17T12:28:35.337407Z",
          "shell.execute_reply": "2024-02-17T12:28:35.47562Z"
        },
        "trusted": true
      },
      "execution_count": null,
      "outputs": []
    },
    {
      "cell_type": "code",
      "source": [
        "from sklearn.preprocessing import StandardScaler\n",
        "from imblearn.over_sampling import SMOTE"
      ],
      "metadata": {
        "id": "l3KOLpnI4ahK",
        "execution": {
          "iopub.status.busy": "2024-02-17T12:28:42.561899Z",
          "iopub.execute_input": "2024-02-17T12:28:42.563196Z",
          "iopub.status.idle": "2024-02-17T12:28:42.568679Z",
          "shell.execute_reply.started": "2024-02-17T12:28:42.563153Z",
          "shell.execute_reply": "2024-02-17T12:28:42.5675Z"
        },
        "trusted": true
      },
      "execution_count": null,
      "outputs": []
    },
    {
      "cell_type": "markdown",
      "source": [
        "**SMOTE (Synthetic Minority Over-sampling Technique) is an over-sampling algorithm used to address the problem of imbalanced datasets, where the number of instances in the minority class is much smaller than the number of instances in the majority class. SMOTE works by generating synthetic samples for the minority class by creating new instances similar to the existing minority class instances. It selects a minority class instance at random and finds its k nearest minority class neighbors. It then generates synthetic instances along the line segments joining these k nearest neighbors in the feature space. This process helps in creating a more robust and balanced dataset for training machine learning models, particularly in scenarios where the minority class is underrepresented.**\n"
      ],
      "metadata": {
        "id": "gdksKgPZ4ahK"
      }
    },
    {
      "cell_type": "code",
      "source": [
        "def sclaing (X) :\n",
        "    sds = StandardScaler()\n",
        "    X = sds.fit_transform(X)\n",
        "    return X"
      ],
      "metadata": {
        "id": "Yejqy8b74ahL",
        "execution": {
          "iopub.status.busy": "2024-02-17T12:28:45.526179Z",
          "iopub.execute_input": "2024-02-17T12:28:45.526716Z",
          "iopub.status.idle": "2024-02-17T12:28:45.532763Z",
          "shell.execute_reply.started": "2024-02-17T12:28:45.526671Z",
          "shell.execute_reply": "2024-02-17T12:28:45.531592Z"
        },
        "trusted": true
      },
      "execution_count": null,
      "outputs": []
    },
    {
      "cell_type": "code",
      "source": [
        "def balancing(X , y) :\n",
        "    smote = SMOTE()\n",
        "    X_balanced , y_balanced = smote.fit_resample(X , y)\n",
        "    return X_balanced , y_balanced\n"
      ],
      "metadata": {
        "id": "QrZ2KBuA4ahL",
        "execution": {
          "iopub.status.busy": "2024-02-17T12:28:48.145072Z",
          "iopub.execute_input": "2024-02-17T12:28:48.145513Z",
          "iopub.status.idle": "2024-02-17T12:28:48.151513Z",
          "shell.execute_reply.started": "2024-02-17T12:28:48.145479Z",
          "shell.execute_reply": "2024-02-17T12:28:48.150266Z"
        },
        "trusted": true
      },
      "execution_count": null,
      "outputs": []
    },
    {
      "cell_type": "code",
      "source": [
        "# Scaling training and testing :\n",
        "X_train = sclaing(X_train)\n",
        "X_test = sclaing(X_test)\n",
        "X_valid = sclaing(X_valid)"
      ],
      "metadata": {
        "id": "-EVjTQSH4ahL",
        "execution": {
          "iopub.status.busy": "2024-02-17T12:28:52.398625Z",
          "iopub.execute_input": "2024-02-17T12:28:52.39903Z",
          "iopub.status.idle": "2024-02-17T12:28:52.420236Z",
          "shell.execute_reply.started": "2024-02-17T12:28:52.399002Z",
          "shell.execute_reply": "2024-02-17T12:28:52.418639Z"
        },
        "trusted": true
      },
      "execution_count": null,
      "outputs": []
    },
    {
      "cell_type": "code",
      "source": [
        "# Balancing the training dataset\n",
        "X_train , y_train = balancing(X_train , y_train)"
      ],
      "metadata": {
        "id": "n6hCXPRA4ahL",
        "execution": {
          "iopub.status.busy": "2024-02-17T12:28:55.974736Z",
          "iopub.execute_input": "2024-02-17T12:28:55.975184Z",
          "iopub.status.idle": "2024-02-17T12:28:55.988165Z",
          "shell.execute_reply.started": "2024-02-17T12:28:55.975154Z",
          "shell.execute_reply": "2024-02-17T12:28:55.986966Z"
        },
        "trusted": true
      },
      "execution_count": null,
      "outputs": []
    },
    {
      "cell_type": "code",
      "source": [
        "y_train.replace({1 : 'Diabetic' , 0 : 'Non-diabetic'}).value_counts().plot.pie(autopct='%1.1f%%')"
      ],
      "metadata": {
        "id": "jowqDYP54ahM",
        "execution": {
          "iopub.status.busy": "2024-02-17T12:28:59.189138Z",
          "iopub.execute_input": "2024-02-17T12:28:59.189592Z",
          "iopub.status.idle": "2024-02-17T12:28:59.314421Z",
          "shell.execute_reply.started": "2024-02-17T12:28:59.189561Z",
          "shell.execute_reply": "2024-02-17T12:28:59.31077Z"
        },
        "trusted": true
      },
      "execution_count": null,
      "outputs": []
    },
    {
      "cell_type": "markdown",
      "source": [
        "# Training and predicting"
      ],
      "metadata": {
        "id": "DGRcCHUh4ahM"
      }
    },
    {
      "cell_type": "code",
      "source": [
        "from sklearn.neighbors import KNeighborsClassifier"
      ],
      "metadata": {
        "id": "a8eYuugQ4ahM",
        "execution": {
          "iopub.status.busy": "2024-02-17T12:29:08.799974Z",
          "iopub.execute_input": "2024-02-17T12:29:08.80044Z",
          "iopub.status.idle": "2024-02-17T12:29:08.807427Z",
          "shell.execute_reply.started": "2024-02-17T12:29:08.800406Z",
          "shell.execute_reply": "2024-02-17T12:29:08.805898Z"
        },
        "trusted": true
      },
      "execution_count": null,
      "outputs": []
    },
    {
      "cell_type": "markdown",
      "source": [
        "**K-Nearest Neighbors (KNN) is a simple algorithm for classification and regression. It predicts the class or value of a new data point based on the majority class or average value of its nearest neighbors. No explicit training is required, making it easy to implement. However, it can be computationally expensive during prediction, and the choice of the number of neighbors (K) is critical for its performance.**\n",
        "\n",
        "\n"
      ],
      "metadata": {
        "id": "J1N-YMeLYHi7"
      }
    },
    {
      "cell_type": "markdown",
      "source": [
        "**Searching for the best value of the k-parameter:**"
      ],
      "metadata": {
        "id": "Exc58im4YHi8"
      }
    },
    {
      "cell_type": "code",
      "source": [
        "train_score = list()\n",
        "test_score = list()\n",
        "\n",
        "for i in range (1 , 15) :\n",
        "    knn = KNeighborsClassifier(n_neighbors=i)\n",
        "    knn.fit(X_train , y_train)\n",
        "    train_score.append(knn.score(X_train , y_train))\n",
        "    test_score.append(knn.score(X_test , y_test))"
      ],
      "metadata": {
        "execution": {
          "iopub.status.busy": "2024-02-17T12:41:46.82442Z",
          "iopub.execute_input": "2024-02-17T12:41:46.826017Z",
          "iopub.status.idle": "2024-02-17T12:41:47.90617Z",
          "shell.execute_reply.started": "2024-02-17T12:41:46.825957Z",
          "shell.execute_reply": "2024-02-17T12:41:47.904873Z"
        },
        "trusted": true,
        "id": "bvxt1CZQYHi9"
      },
      "execution_count": null,
      "outputs": []
    },
    {
      "cell_type": "code",
      "source": [
        "sns.lineplot(x=range(1,15) , y=train_score , label = \"Training score\")\n",
        "sns.lineplot(x=range(1,15) , y=test_score , label = \"Training score\")\n",
        "plt.xlabel('K-parameter')\n",
        "plt.ylabel('Score')\n",
        "plt.grid(True)\n",
        "plt.show()"
      ],
      "metadata": {
        "execution": {
          "iopub.status.busy": "2024-02-17T12:56:47.766653Z",
          "iopub.execute_input": "2024-02-17T12:56:47.767877Z",
          "iopub.status.idle": "2024-02-17T12:56:48.050408Z",
          "shell.execute_reply.started": "2024-02-17T12:56:47.767824Z",
          "shell.execute_reply": "2024-02-17T12:56:48.049238Z"
        },
        "trusted": true,
        "id": "SE-9TfMpYHi_"
      },
      "execution_count": null,
      "outputs": []
    },
    {
      "cell_type": "code",
      "source": [
        "best_k = train_score.index(max(train_score)) + 1\n",
        "best_k"
      ],
      "metadata": {
        "execution": {
          "iopub.status.busy": "2024-02-17T13:00:34.478918Z",
          "iopub.execute_input": "2024-02-17T13:00:34.480096Z",
          "iopub.status.idle": "2024-02-17T13:00:34.489029Z",
          "shell.execute_reply.started": "2024-02-17T13:00:34.480055Z",
          "shell.execute_reply": "2024-02-17T13:00:34.487596Z"
        },
        "trusted": true,
        "id": "Px5vwN1SYHjA"
      },
      "execution_count": null,
      "outputs": []
    },
    {
      "cell_type": "code",
      "source": [
        "knn_model = KNeighborsClassifier(n_neighbors=1)\n",
        "knn_model.fit(X_train , y_train)"
      ],
      "metadata": {
        "id": "arua-KAt4ahM",
        "execution": {
          "iopub.status.busy": "2024-02-17T13:00:56.604179Z",
          "iopub.execute_input": "2024-02-17T13:00:56.60495Z",
          "iopub.status.idle": "2024-02-17T13:00:56.619698Z",
          "shell.execute_reply.started": "2024-02-17T13:00:56.604904Z",
          "shell.execute_reply": "2024-02-17T13:00:56.618249Z"
        },
        "trusted": true
      },
      "execution_count": null,
      "outputs": []
    },
    {
      "cell_type": "code",
      "source": [
        "y_predict = knn_model.predict(X_test)"
      ],
      "metadata": {
        "id": "MEjgb2gJ4ahO",
        "execution": {
          "iopub.status.busy": "2024-02-17T13:01:00.426884Z",
          "iopub.execute_input": "2024-02-17T13:01:00.427705Z",
          "iopub.status.idle": "2024-02-17T13:01:00.453059Z",
          "shell.execute_reply.started": "2024-02-17T13:01:00.427667Z",
          "shell.execute_reply": "2024-02-17T13:01:00.451772Z"
        },
        "trusted": true
      },
      "execution_count": null,
      "outputs": []
    },
    {
      "cell_type": "markdown",
      "source": [
        "**Evaluating the perfomance of the model**"
      ],
      "metadata": {
        "id": "DasenKfD4ahO"
      }
    },
    {
      "cell_type": "code",
      "source": [
        "from sklearn.metrics import confusion_matrix\n",
        "from sklearn.metrics import classification_report"
      ],
      "metadata": {
        "id": "-LD7AV4O4ahO",
        "execution": {
          "iopub.status.busy": "2024-02-17T13:01:26.233822Z",
          "iopub.execute_input": "2024-02-17T13:01:26.23508Z",
          "iopub.status.idle": "2024-02-17T13:01:26.24259Z",
          "shell.execute_reply.started": "2024-02-17T13:01:26.235031Z",
          "shell.execute_reply": "2024-02-17T13:01:26.240591Z"
        },
        "trusted": true
      },
      "execution_count": null,
      "outputs": []
    },
    {
      "cell_type": "markdown",
      "source": [
        "**Classification report :**"
      ],
      "metadata": {
        "id": "yBzKtmTdYHjD"
      }
    },
    {
      "cell_type": "code",
      "source": [
        "print(classification_report(y_test , y_predict))"
      ],
      "metadata": {
        "id": "7zPdZegc4ahP",
        "execution": {
          "iopub.status.busy": "2024-02-17T13:01:29.043928Z",
          "iopub.execute_input": "2024-02-17T13:01:29.044438Z",
          "iopub.status.idle": "2024-02-17T13:01:29.069181Z",
          "shell.execute_reply.started": "2024-02-17T13:01:29.044402Z",
          "shell.execute_reply": "2024-02-17T13:01:29.067431Z"
        },
        "trusted": true
      },
      "execution_count": null,
      "outputs": []
    },
    {
      "cell_type": "markdown",
      "source": [
        "**Confusion matrix :**"
      ],
      "metadata": {
        "id": "wsPYPs3XYHjE"
      }
    },
    {
      "cell_type": "code",
      "source": [
        "confusion_matrix(y_test , y_predict)"
      ],
      "metadata": {
        "id": "8KdMup8t4ahZ"
      },
      "execution_count": null,
      "outputs": []
    },
    {
      "cell_type": "code",
      "source": [
        "sns.heatmap(confusion_matrix(y_test , y_predict) , annot=True , xticklabels=['Non-Diabetic' , 'Diabetic'] , yticklabels=['Non-Diabetic' , 'Diabetic'])"
      ],
      "metadata": {
        "id": "1YDejTWt4ahZ",
        "execution": {
          "iopub.status.busy": "2024-02-17T13:01:37.933753Z",
          "iopub.execute_input": "2024-02-17T13:01:37.934988Z",
          "iopub.status.idle": "2024-02-17T13:01:38.274429Z",
          "shell.execute_reply.started": "2024-02-17T13:01:37.934924Z",
          "shell.execute_reply": "2024-02-17T13:01:38.272869Z"
        },
        "trusted": true
      },
      "execution_count": null,
      "outputs": []
    }
  ]
}